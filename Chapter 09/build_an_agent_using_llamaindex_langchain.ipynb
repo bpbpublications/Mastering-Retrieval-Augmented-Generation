{
 "cells": [
  {
   "cell_type": "code",
   "execution_count": 20,
   "id": "538b6056-9499-4c7c-9ada-fa932f2e1dc8",
   "metadata": {},
   "outputs": [
    {
     "name": "stdout",
     "output_type": "stream",
     "text": [
      "Requirement already satisfied: langchain in /Users/karanbirsingh/anaconda3/envs/llamaindex/lib/python3.11/site-packages (0.3.4)\n",
      "Requirement already satisfied: langchain_community in /Users/karanbirsingh/anaconda3/envs/llamaindex/lib/python3.11/site-packages (0.3.3)\n",
      "Collecting langchain_openai\n",
      "  Downloading langchain_openai-0.2.3-py3-none-any.whl.metadata (2.6 kB)\n",
      "Requirement already satisfied: PyYAML>=5.3 in /Users/karanbirsingh/anaconda3/envs/llamaindex/lib/python3.11/site-packages (from langchain) (6.0.1)\n",
      "Requirement already satisfied: SQLAlchemy<3,>=1.4 in /Users/karanbirsingh/anaconda3/envs/llamaindex/lib/python3.11/site-packages (from langchain) (2.0.35)\n",
      "Requirement already satisfied: aiohttp<4.0.0,>=3.8.3 in /Users/karanbirsingh/anaconda3/envs/llamaindex/lib/python3.11/site-packages (from langchain) (3.10.8)\n",
      "Requirement already satisfied: langchain-core<0.4.0,>=0.3.12 in /Users/karanbirsingh/anaconda3/envs/llamaindex/lib/python3.11/site-packages (from langchain) (0.3.12)\n",
      "Requirement already satisfied: langchain-text-splitters<0.4.0,>=0.3.0 in /Users/karanbirsingh/anaconda3/envs/llamaindex/lib/python3.11/site-packages (from langchain) (0.3.0)\n",
      "Requirement already satisfied: langsmith<0.2.0,>=0.1.17 in /Users/karanbirsingh/anaconda3/envs/llamaindex/lib/python3.11/site-packages (from langchain) (0.1.136)\n",
      "Requirement already satisfied: numpy<2,>=1 in /Users/karanbirsingh/anaconda3/envs/llamaindex/lib/python3.11/site-packages (from langchain) (1.26.4)\n",
      "Requirement already satisfied: pydantic<3.0.0,>=2.7.4 in /Users/karanbirsingh/anaconda3/envs/llamaindex/lib/python3.11/site-packages (from langchain) (2.9.2)\n",
      "Requirement already satisfied: requests<3,>=2 in /Users/karanbirsingh/anaconda3/envs/llamaindex/lib/python3.11/site-packages (from langchain) (2.32.3)\n",
      "Requirement already satisfied: tenacity!=8.4.0,<10,>=8.1.0 in /Users/karanbirsingh/anaconda3/envs/llamaindex/lib/python3.11/site-packages (from langchain) (8.5.0)\n",
      "Requirement already satisfied: dataclasses-json<0.7,>=0.5.7 in /Users/karanbirsingh/anaconda3/envs/llamaindex/lib/python3.11/site-packages (from langchain_community) (0.6.7)\n",
      "Requirement already satisfied: pydantic-settings<3.0.0,>=2.4.0 in /Users/karanbirsingh/anaconda3/envs/llamaindex/lib/python3.11/site-packages (from langchain_community) (2.6.0)\n",
      "Collecting openai<2.0.0,>=1.52.0 (from langchain_openai)\n",
      "  Downloading openai-1.52.0-py3-none-any.whl.metadata (24 kB)\n",
      "Requirement already satisfied: tiktoken<1,>=0.7 in /Users/karanbirsingh/anaconda3/envs/llamaindex/lib/python3.11/site-packages (from langchain_openai) (0.8.0)\n",
      "Requirement already satisfied: aiohappyeyeballs>=2.3.0 in /Users/karanbirsingh/anaconda3/envs/llamaindex/lib/python3.11/site-packages (from aiohttp<4.0.0,>=3.8.3->langchain) (2.4.3)\n",
      "Requirement already satisfied: aiosignal>=1.1.2 in /Users/karanbirsingh/anaconda3/envs/llamaindex/lib/python3.11/site-packages (from aiohttp<4.0.0,>=3.8.3->langchain) (1.3.1)\n",
      "Requirement already satisfied: attrs>=17.3.0 in /Users/karanbirsingh/anaconda3/envs/llamaindex/lib/python3.11/site-packages (from aiohttp<4.0.0,>=3.8.3->langchain) (23.1.0)\n",
      "Requirement already satisfied: frozenlist>=1.1.1 in /Users/karanbirsingh/anaconda3/envs/llamaindex/lib/python3.11/site-packages (from aiohttp<4.0.0,>=3.8.3->langchain) (1.4.1)\n",
      "Requirement already satisfied: multidict<7.0,>=4.5 in /Users/karanbirsingh/anaconda3/envs/llamaindex/lib/python3.11/site-packages (from aiohttp<4.0.0,>=3.8.3->langchain) (6.1.0)\n",
      "Requirement already satisfied: yarl<2.0,>=1.12.0 in /Users/karanbirsingh/anaconda3/envs/llamaindex/lib/python3.11/site-packages (from aiohttp<4.0.0,>=3.8.3->langchain) (1.13.1)\n",
      "Requirement already satisfied: marshmallow<4.0.0,>=3.18.0 in /Users/karanbirsingh/anaconda3/envs/llamaindex/lib/python3.11/site-packages (from dataclasses-json<0.7,>=0.5.7->langchain_community) (3.22.0)\n",
      "Requirement already satisfied: typing-inspect<1,>=0.4.0 in /Users/karanbirsingh/anaconda3/envs/llamaindex/lib/python3.11/site-packages (from dataclasses-json<0.7,>=0.5.7->langchain_community) (0.9.0)\n",
      "Requirement already satisfied: jsonpatch<2.0,>=1.33 in /Users/karanbirsingh/anaconda3/envs/llamaindex/lib/python3.11/site-packages (from langchain-core<0.4.0,>=0.3.12->langchain) (1.33)\n",
      "Requirement already satisfied: packaging<25,>=23.2 in /Users/karanbirsingh/anaconda3/envs/llamaindex/lib/python3.11/site-packages (from langchain-core<0.4.0,>=0.3.12->langchain) (24.1)\n",
      "Requirement already satisfied: typing-extensions>=4.7 in /Users/karanbirsingh/anaconda3/envs/llamaindex/lib/python3.11/site-packages (from langchain-core<0.4.0,>=0.3.12->langchain) (4.11.0)\n",
      "Requirement already satisfied: httpx<1,>=0.23.0 in /Users/karanbirsingh/anaconda3/envs/llamaindex/lib/python3.11/site-packages (from langsmith<0.2.0,>=0.1.17->langchain) (0.27.2)\n",
      "Requirement already satisfied: orjson<4.0.0,>=3.9.14 in /Users/karanbirsingh/anaconda3/envs/llamaindex/lib/python3.11/site-packages (from langsmith<0.2.0,>=0.1.17->langchain) (3.10.7)\n",
      "Requirement already satisfied: requests-toolbelt<2.0.0,>=1.0.0 in /Users/karanbirsingh/anaconda3/envs/llamaindex/lib/python3.11/site-packages (from langsmith<0.2.0,>=0.1.17->langchain) (1.0.0)\n",
      "Requirement already satisfied: anyio<5,>=3.5.0 in /Users/karanbirsingh/anaconda3/envs/llamaindex/lib/python3.11/site-packages (from openai<2.0.0,>=1.52.0->langchain_openai) (4.6.0)\n",
      "Requirement already satisfied: distro<2,>=1.7.0 in /Users/karanbirsingh/anaconda3/envs/llamaindex/lib/python3.11/site-packages (from openai<2.0.0,>=1.52.0->langchain_openai) (1.9.0)\n",
      "Requirement already satisfied: jiter<1,>=0.4.0 in /Users/karanbirsingh/anaconda3/envs/llamaindex/lib/python3.11/site-packages (from openai<2.0.0,>=1.52.0->langchain_openai) (0.5.0)\n",
      "Requirement already satisfied: sniffio in /Users/karanbirsingh/anaconda3/envs/llamaindex/lib/python3.11/site-packages (from openai<2.0.0,>=1.52.0->langchain_openai) (1.3.1)\n",
      "Requirement already satisfied: tqdm>4 in /Users/karanbirsingh/anaconda3/envs/llamaindex/lib/python3.11/site-packages (from openai<2.0.0,>=1.52.0->langchain_openai) (4.66.5)\n",
      "Requirement already satisfied: annotated-types>=0.6.0 in /Users/karanbirsingh/anaconda3/envs/llamaindex/lib/python3.11/site-packages (from pydantic<3.0.0,>=2.7.4->langchain) (0.7.0)\n",
      "Requirement already satisfied: pydantic-core==2.23.4 in /Users/karanbirsingh/anaconda3/envs/llamaindex/lib/python3.11/site-packages (from pydantic<3.0.0,>=2.7.4->langchain) (2.23.4)\n",
      "Requirement already satisfied: python-dotenv>=0.21.0 in /Users/karanbirsingh/anaconda3/envs/llamaindex/lib/python3.11/site-packages (from pydantic-settings<3.0.0,>=2.4.0->langchain_community) (1.0.1)\n",
      "Requirement already satisfied: charset-normalizer<4,>=2 in /Users/karanbirsingh/anaconda3/envs/llamaindex/lib/python3.11/site-packages (from requests<3,>=2->langchain) (3.3.2)\n",
      "Requirement already satisfied: idna<4,>=2.5 in /Users/karanbirsingh/anaconda3/envs/llamaindex/lib/python3.11/site-packages (from requests<3,>=2->langchain) (3.10)\n",
      "Requirement already satisfied: urllib3<3,>=1.21.1 in /Users/karanbirsingh/anaconda3/envs/llamaindex/lib/python3.11/site-packages (from requests<3,>=2->langchain) (2.2.3)\n",
      "Requirement already satisfied: certifi>=2017.4.17 in /Users/karanbirsingh/anaconda3/envs/llamaindex/lib/python3.11/site-packages (from requests<3,>=2->langchain) (2024.8.30)\n",
      "Requirement already satisfied: regex>=2022.1.18 in /Users/karanbirsingh/anaconda3/envs/llamaindex/lib/python3.11/site-packages (from tiktoken<1,>=0.7->langchain_openai) (2024.9.11)\n",
      "Requirement already satisfied: httpcore==1.* in /Users/karanbirsingh/anaconda3/envs/llamaindex/lib/python3.11/site-packages (from httpx<1,>=0.23.0->langsmith<0.2.0,>=0.1.17->langchain) (1.0.2)\n",
      "Requirement already satisfied: h11<0.15,>=0.13 in /Users/karanbirsingh/anaconda3/envs/llamaindex/lib/python3.11/site-packages (from httpcore==1.*->httpx<1,>=0.23.0->langsmith<0.2.0,>=0.1.17->langchain) (0.14.0)\n",
      "Requirement already satisfied: jsonpointer>=1.9 in /Users/karanbirsingh/anaconda3/envs/llamaindex/lib/python3.11/site-packages (from jsonpatch<2.0,>=1.33->langchain-core<0.4.0,>=0.3.12->langchain) (3.0.0)\n",
      "Requirement already satisfied: mypy-extensions>=0.3.0 in /Users/karanbirsingh/anaconda3/envs/llamaindex/lib/python3.11/site-packages (from typing-inspect<1,>=0.4.0->dataclasses-json<0.7,>=0.5.7->langchain_community) (1.0.0)\n",
      "Downloading langchain_openai-0.2.3-py3-none-any.whl (49 kB)\n",
      "Downloading openai-1.52.0-py3-none-any.whl (386 kB)\n",
      "Installing collected packages: openai, langchain_openai\n",
      "  Attempting uninstall: openai\n",
      "    Found existing installation: openai 1.51.0\n",
      "    Uninstalling openai-1.51.0:\n",
      "      Successfully uninstalled openai-1.51.0\n",
      "Successfully installed langchain_openai-0.2.3 openai-1.52.0\n"
     ]
    }
   ],
   "source": [
    "!pip install langchain langchain_community langchain_openai"
   ]
  },
  {
   "cell_type": "markdown",
   "id": "5031cc54-a1e4-4bc0-a394-e05990e06416",
   "metadata": {},
   "source": [
    "# Setup OpenAI "
   ]
  },
  {
   "cell_type": "code",
   "execution_count": 1,
   "id": "45f34037-f3bd-45ea-8f21-a5378a6000a2",
   "metadata": {},
   "outputs": [
    {
     "name": "stdin",
     "output_type": "stream",
     "text": [
      "OpenAI API Key:  ········\n"
     ]
    }
   ],
   "source": [
    "import getpass\n",
    "import os\n",
    "\n",
    "os.environ['OPENAI_API_KEY'] = getpass.getpass(\"OpenAI API Key: \")"
   ]
  },
  {
   "cell_type": "code",
   "execution_count": 37,
   "id": "d1ecdd9b-4dcc-4b00-b7a4-6647453a3839",
   "metadata": {},
   "outputs": [],
   "source": [
    "from pathlib import Path\n",
    "\n",
    "from langchain.agents import Tool, AgentExecutor, create_tool_calling_agent\n",
    "from langchain_core.prompts import ChatPromptTemplate\n",
    "from langchain_openai import ChatOpenAI\n",
    "\n",
    "from llama_index.embeddings.openai import OpenAIEmbedding\n",
    "from llama_index.core import SimpleDirectoryReader,VectorStoreIndex\n",
    "from llama_index.core.tools import QueryEngineTool, ToolMetadata"
   ]
  },
  {
   "cell_type": "code",
   "execution_count": 4,
   "id": "2705d16d-a613-4a0d-8a90-30e8b7ff10fa",
   "metadata": {},
   "outputs": [],
   "source": [
    "transformers_path = Path(\"./data/research_papers/transformers\")\n",
    "cnn_path = Path(\"./data/research_papers/cnn\")\n",
    "rag_path = Path(\"./data/research_papers/rag\")"
   ]
  },
  {
   "cell_type": "code",
   "execution_count": 5,
   "id": "05ad51b6-c7cd-490e-a517-45a612acfd7a",
   "metadata": {},
   "outputs": [],
   "source": [
    "# load documents from research papers\n",
    "transformers_docs = SimpleDirectoryReader(transformers_path).load_data()\n",
    "cnn_docs = SimpleDirectoryReader(cnn_path).load_data()\n",
    "rag_docs = SimpleDirectoryReader(rag_path).load_data()"
   ]
  },
  {
   "cell_type": "code",
   "execution_count": 6,
   "id": "de820987-9f06-4801-99d5-64bce03d8d96",
   "metadata": {},
   "outputs": [],
   "source": [
    "# build index from research papers documents\n",
    "transformers_index = VectorStoreIndex.from_documents(transformers_docs)\n",
    "cnn_index = VectorStoreIndex.from_documents(cnn_docs)\n",
    "rag_index = VectorStoreIndex.from_documents(rag_docs)"
   ]
  },
  {
   "cell_type": "code",
   "execution_count": 7,
   "id": "6e3b2181-5bd8-466d-9290-39844136d3f5",
   "metadata": {},
   "outputs": [],
   "source": [
    "#Creating Query engines from documents\n",
    "transformers_engine = transformers_index.as_query_engine(similarity_top_k=3)\n",
    "cnn_engine = cnn_index.as_query_engine(similarity_top_k=3)\n",
    "rag_engine = rag_index.as_query_engine(similarity_top_k=3)"
   ]
  },
  {
   "cell_type": "code",
   "execution_count": 31,
   "id": "0f9960ef-6305-44b4-910b-ba9f22d01de8",
   "metadata": {},
   "outputs": [],
   "source": [
    "#creating tools for research paper query engines\n",
    "query_engine_tools = [\n",
    "\n",
    "    QueryEngineTool(\n",
    "        query_engine=transformers_engine,\n",
    "        metadata=ToolMetadata(\n",
    "            name=\"transformers_papers\",\n",
    "            description=(\n",
    "                \"Provides information about Transformers and related concepts\"\n",
    "            ),\n",
    "        ),\n",
    "    ),\n",
    "    QueryEngineTool(\n",
    "        query_engine=cnn_engine,\n",
    "        metadata=ToolMetadata(\n",
    "            name=\"cnn_papers\",\n",
    "            description=(\n",
    "                \"Provides information about CNN and related architectures\"\n",
    "            ),\n",
    "        ),\n",
    "    ),\n",
    "    QueryEngineTool(\n",
    "        query_engine=cnn_engine,\n",
    "        metadata=ToolMetadata(\n",
    "            name=\"RAG_papers\",\n",
    "            description=(\n",
    "                \"Provides information about RAG\"\n",
    "            ),\n",
    "        ),\n",
    "    ),\n",
    "]"
   ]
  },
  {
   "cell_type": "code",
   "execution_count": 32,
   "id": "c82a6d13-5843-4b7a-818b-648c7317a58b",
   "metadata": {},
   "outputs": [],
   "source": [
    "langchain_tools = [t.to_langchain_tool() for t in query_engine_tools]"
   ]
  },
  {
   "cell_type": "code",
   "execution_count": 38,
   "id": "35036cec-5cc1-4f95-a154-eca714647e71",
   "metadata": {},
   "outputs": [],
   "source": [
    "system_context = \"You are a researcher in Deep Learning.\\\n",
    "You will answer questions about transformers, cnn, RAG\"\n",
    "\n",
    "llm = ChatOpenAI(model_name=\"gpt-4-1106-preview\", temperature=0, streaming=True)\n",
    "\n",
    "prompt = ChatPromptTemplate.from_messages(\n",
    "    [\n",
    "        (\n",
    "            \"system\",\n",
    "            system_context,\n",
    "        ),\n",
    "        (\"placeholder\", \"{chat_history}\"),\n",
    "        (\"human\", \"{input}\"),\n",
    "        (\"placeholder\", \"{agent_scratchpad}\"),\n",
    "    ]\n",
    ")\n",
    "\n",
    "# Construct the Tools agent\n",
    "agent = create_tool_calling_agent(llm, langchain_tools, prompt)"
   ]
  },
  {
   "cell_type": "code",
   "execution_count": 34,
   "id": "c0424ac5-7ba6-43c0-b635-2ca065f54b93",
   "metadata": {},
   "outputs": [],
   "source": [
    "agent_executor = AgentExecutor(agent=agent, tools=langchain_tools, verbose=True, return_intermediate_steps=True, handle_parsing_errors=True, max_iterations=5)"
   ]
  },
  {
   "cell_type": "code",
   "execution_count": 36,
   "id": "06b6e285-1940-4463-b557-02bd0528c757",
   "metadata": {},
   "outputs": [
    {
     "name": "stdout",
     "output_type": "stream",
     "text": [
      "\n",
      "\n",
      "\u001b[1m> Entering new AgentExecutor chain...\u001b[0m\n",
      "\u001b[32;1m\u001b[1;3m\n",
      "Invoking: `RAG_papers` with `{'input': 'What is RAG?'}`\n",
      "\n",
      "\n",
      "\u001b[0m\u001b[38;5;200m\u001b[1;3mRAG stands for Recognition Graph.\u001b[0m\u001b[32;1m\u001b[1;3mRAG, in the context of deep learning, typically refers to \"Retrieval-Augmented Generation,\" which is a method for combining the dense vector retrieval of documents (or other data) with a sequence-to-sequence model for natural language generation tasks. However, the response I received indicates \"Recognition Graph,\" which seems to be an unrelated concept or a misunderstanding.\n",
      "\n",
      "If you are indeed asking about Retrieval-Augmented Generation, it is a framework that enhances the capabilities of language models by allowing them to access external knowledge sources. This is particularly useful for tasks where the model needs to generate responses based on information that is not contained within its parameters but can be found in reference documents or databases.\n",
      "\n",
      "Would you like to know more about Retrieval-Augmented Generation (RAG) in the context of deep learning and natural language processing?\u001b[0m\n",
      "\n",
      "\u001b[1m> Finished chain.\u001b[0m\n",
      "\n",
      " Response: RAG, in the context of deep learning, typically refers to \"Retrieval-Augmented Generation,\" which is a method for combining the dense vector retrieval of documents (or other data) with a sequence-to-sequence model for natural language generation tasks. However, the response I received indicates \"Recognition Graph,\" which seems to be an unrelated concept or a misunderstanding.\n",
      "\n",
      "If you are indeed asking about Retrieval-Augmented Generation, it is a framework that enhances the capabilities of language models by allowing them to access external knowledge sources. This is particularly useful for tasks where the model needs to generate responses based on information that is not contained within its parameters but can be found in reference documents or databases.\n",
      "\n",
      "Would you like to know more about Retrieval-Augmented Generation (RAG) in the context of deep learning and natural language processing?\n"
     ]
    }
   ],
   "source": [
    "question =  \"What is RAG?\"\n",
    "\n",
    "response = agent_executor.invoke({\"input\": question})\n",
    "\n",
    "print(\"\\n Response:\", response['output'])"
   ]
  },
  {
   "cell_type": "code",
   "execution_count": null,
   "id": "df6bfde0-6b33-42d9-9e4a-98b84ded13bf",
   "metadata": {},
   "outputs": [],
   "source": []
  }
 ],
 "metadata": {
  "kernelspec": {
   "display_name": "Python 3 (ipykernel)",
   "language": "python",
   "name": "python3"
  },
  "language_info": {
   "codemirror_mode": {
    "name": "ipython",
    "version": 3
   },
   "file_extension": ".py",
   "mimetype": "text/x-python",
   "name": "python",
   "nbconvert_exporter": "python",
   "pygments_lexer": "ipython3",
   "version": "3.11.10"
  }
 },
 "nbformat": 4,
 "nbformat_minor": 5
}
